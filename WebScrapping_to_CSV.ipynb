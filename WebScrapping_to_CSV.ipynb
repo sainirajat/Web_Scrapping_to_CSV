{
 "cells": [
  {
   "cell_type": "code",
   "execution_count": 1,
   "metadata": {},
   "outputs": [],
   "source": [
    "import numpy as np\n",
    "import matplotlib.pyplot as plt\n",
    "%matplotlib inline\n"
   ]
  },
  {
   "cell_type": "code",
   "execution_count": 2,
   "metadata": {},
   "outputs": [],
   "source": [
    "from bs4 import BeautifulSoup as BS\n",
    "import requests\n"
   ]
  },
  {
   "cell_type": "code",
   "execution_count": 5,
   "metadata": {},
   "outputs": [],
   "source": [
    "url = 'http://www.imdb.com/chart/top?ref_=nv_mv_250_6'\n",
    "r = requests.get(url)\n",
    "# print r.text\n"
   ]
  },
  {
   "cell_type": "code",
   "execution_count": 6,
   "metadata": {},
   "outputs": [
    {
     "name": "stdout",
     "output_type": "stream",
     "text": [
      "<class 'bs4.BeautifulSoup'>\n"
     ]
    }
   ],
   "source": [
    "soup = BS(r.text, 'html.parser')\n",
    "print type(soup)\n"
   ]
  },
  {
   "cell_type": "code",
   "execution_count": 7,
   "metadata": {},
   "outputs": [],
   "source": [
    "title = []\n",
    "year = []\n",
    "ratings = []\n",
    "urls = []\n",
    "\n",
    "actors = []\n",
    "director = []\n"
   ]
  },
  {
   "cell_type": "code",
   "execution_count": 8,
   "metadata": {},
   "outputs": [
    {
     "name": "stdout",
     "output_type": "stream",
     "text": [
      "<class 'bs4.element.ResultSet'>\n",
      "1\n"
     ]
    }
   ],
   "source": [
    "movies = soup.find_all('tbody',{'class':'lister-list'})\n",
    "print type(movies)\n",
    "print len(movies)\n"
   ]
  },
  {
   "cell_type": "code",
   "execution_count": 9,
   "metadata": {},
   "outputs": [],
   "source": [
    "movies=movies[0]"
   ]
  },
  {
   "cell_type": "code",
   "execution_count": 10,
   "metadata": {},
   "outputs": [
    {
     "name": "stdout",
     "output_type": "stream",
     "text": [
      "501\n"
     ]
    }
   ],
   "source": [
    "print len(movies)"
   ]
  },
  {
   "cell_type": "code",
   "execution_count": 11,
   "metadata": {},
   "outputs": [
    {
     "name": "stdout",
     "output_type": "stream",
     "text": [
      "250\n"
     ]
    }
   ],
   "source": [
    "rows = movies.find_all('tr')\n",
    "print len(rows)"
   ]
  },
  {
   "cell_type": "code",
   "execution_count": 12,
   "metadata": {},
   "outputs": [],
   "source": [
    "for row in rows:\n",
    "    title_col = row.find('td',{'class':'titleColumn'})\n",
    "    anchor = title_col.find('a')\n",
    "    movie_title = anchor.text\n",
    "    \n",
    "    movie_url = anchor['href']\n",
    "    \n",
    "    movie_actors = anchor['title']\n",
    "    \n",
    "    movie_span = title_col.find('span')\n",
    "    movie_year = movie_span.text\n",
    "    \n",
    "    rating_col = row.find('td',{'class':'ratingColumn imdbRating'})\n",
    "    movie_strong = rating_col.find('strong')\n",
    "    movie_rating = movie_strong.text\n",
    "    \n",
    "    split_split = movie_actors.split(',')\n",
    "    movie_director = split_split[0]\n",
    "    workers = split_split[1:]\n",
    "    \n",
    "#     print movie_director\n",
    "#     print workers\n",
    "#     movie_director = movie_actors[0]\n",
    "#     workers = movie_actors[1:]\n",
    "#     print movie_title,\"++\"\n",
    "#     print movie_url,\"++\"\n",
    "#     print movie_year,\"++\"\n",
    "#     print movie_actors,\"++\"\n",
    "#     print movie_rating,\"-------\"\n",
    "    title.append(movie_title)\n",
    "    year.append(movie_year)\n",
    "    ratings.append(movie_rating)\n",
    "    urls.append('http://www.imdb.com'+movie_url)\n",
    "    actors.append(workers)\n",
    "    director.append(movie_director)\n"
   ]
  },
  {
   "cell_type": "code",
   "execution_count": 13,
   "metadata": {},
   "outputs": [
    {
     "name": "stdout",
     "output_type": "stream",
     "text": [
      "250\n",
      "250\n",
      "250\n",
      "250\n",
      "250\n",
      "250\n",
      "[u'The Shawshank Redemption', u'The Godfather', u'The Godfather: Part II', u'The Dark Knight', u'12 Angry Men', u\"Schindler's List\", u'The Lord of the Rings: The Return of the King', u'Pulp Fiction', u'Il buono, il brutto, il cattivo', u'Fight Club']\n",
      "[u'(1994)', u'(1972)', u'(1974)', u'(2008)', u'(1957)', u'(1993)', u'(2003)', u'(1994)', u'(1966)', u'(1999)']\n",
      "[u'9.2', u'9.2', u'9.0', u'9.0', u'8.9', u'8.9', u'8.9', u'8.9', u'8.8', u'8.8']\n",
      "[u'http://www.imdb.com/title/tt0111161/?pf_rd_m=A2FGELUUNOQJNL&pf_rd_p=e31d89dd-322d-4646-8962-327b42fe94b1&pf_rd_r=1CTE1WPVWJ8PHDW5DXD8&pf_rd_s=center-1&pf_rd_t=15506&pf_rd_i=top&ref_=chttp_tt_1']\n",
      "[[u' Tim Robbins', u' Morgan Freeman'], [u' Marlon Brando', u' Al Pacino'], [u' Al Pacino', u' Robert De Niro'], [u' Christian Bale', u' Heath Ledger'], [u' Henry Fonda', u' Lee J. Cobb'], [u' Liam Neeson', u' Ralph Fiennes'], [u' Elijah Wood', u' Viggo Mortensen'], [u' John Travolta', u' Uma Thurman'], [u' Clint Eastwood', u' Eli Wallach'], [u' Brad Pitt', u' Edward Norton']]\n",
      "[u'Frank Darabont (dir.)', u'Francis Ford Coppola (dir.)', u'Francis Ford Coppola (dir.)', u'Christopher Nolan (dir.)', u'Sidney Lumet (dir.)', u'Steven Spielberg (dir.)', u'Peter Jackson (dir.)', u'Quentin Tarantino (dir.)', u'Sergio Leone (dir.)', u'David Fincher (dir.)']\n"
     ]
    }
   ],
   "source": [
    "print len(title)\n",
    "print len(year)\n",
    "print len(ratings)\n",
    "print len(urls)\n",
    "print len(actors)\n",
    "print len(director)\n",
    "\n",
    "print title[:10]\n",
    "print year[:10]\n",
    "print ratings[:10]\n",
    "print urls[:1]\n",
    "print actors[:10]\n",
    "print director[:10]"
   ]
  },
  {
   "cell_type": "code",
   "execution_count": null,
   "metadata": {},
   "outputs": [],
   "source": [
    "Duration = []"
   ]
  },
  {
   "cell_type": "code",
   "execution_count": null,
   "metadata": {},
   "outputs": [
    {
     "name": "stdout",
     "output_type": "stream",
     "text": [
      "\n",
      "                        2h 22min\n",
      "                    \n",
      "\n",
      "                        2h 55min\n",
      "                    \n",
      "\n",
      "                        3h 22min\n",
      "                    \n",
      "\n",
      "                        2h 32min\n",
      "                    \n",
      "\n",
      "                        1h 36min\n",
      "                    \n",
      "\n",
      "                        3h 15min\n",
      "                    \n",
      "\n",
      "                        3h 21min\n",
      "                    \n",
      "\n",
      "                        2h 34min\n",
      "                    \n",
      "\n",
      "                        2h 41min\n",
      "                    \n",
      "\n",
      "                        2h 19min\n",
      "                    \n"
     ]
    }
   ],
   "source": [
    "for ix in urls:\n",
    "    r2 = requests.get(ix)\n",
    "    soup = BS(r2.text,'html.parser')\n",
    "    time = soup.find_all('time')\n",
    "    print time[0].text\n",
    "    Duration.append((time[0].text).encode('utf-8'))"
   ]
  },
  {
   "cell_type": "code",
   "execution_count": null,
   "metadata": {},
   "outputs": [],
   "source": []
  },
  {
   "cell_type": "code",
   "execution_count": null,
   "metadata": {},
   "outputs": [],
   "source": []
  },
  {
   "cell_type": "code",
   "execution_count": null,
   "metadata": {},
   "outputs": [],
   "source": [
    "# Duration = Duration[23:]"
   ]
  },
  {
   "cell_type": "code",
   "execution_count": null,
   "metadata": {
    "scrolled": true
   },
   "outputs": [],
   "source": [
    "# print len(Duration)\n",
    "print Duration[:1]\n",
    "movie_duration = []"
   ]
  },
  {
   "cell_type": "code",
   "execution_count": null,
   "metadata": {},
   "outputs": [],
   "source": [
    "for ix in Duration:\n",
    "    split =  ix.split('  ')\n",
    "#     print split[12]\n",
    "    movie_duration.append(split[12])"
   ]
  },
  {
   "cell_type": "code",
   "execution_count": null,
   "metadata": {},
   "outputs": [],
   "source": [
    "# new_duration = []\n",
    "# count = 0\n",
    "# for ix in movie_duration:\n",
    "#     if len(ix) is 9:\n",
    "#         new_duration.append(ix)\n",
    "#         count = count+1\n",
    "#         pass\n",
    "#     else:\n",
    "# #         print count,\"----->\",len(ix)\n",
    "#         while(len(ix) != 9):\n",
    "#             ix = ix+\" \"\n",
    "# #             print \"in loop\"\n",
    "#         count = count+1\n",
    "#         new_duration.append(ix)"
   ]
  },
  {
   "cell_type": "code",
   "execution_count": null,
   "metadata": {},
   "outputs": [],
   "source": [
    "# for ix in new_duration:\n",
    "#     if len(ix) is 9:\n",
    "#         count = count+1\n",
    "#         pass\n",
    "#     else:\n",
    "#         print count,\"----->\",len(ix)\n",
    "#         while(len(ix) != 9):\n",
    "#             ix = ix+\" \"\n",
    "#             print \"in loop\"\n",
    "#         print \"problem\"\n",
    "#         count = count+1\n",
    "# print len(new_duration)"
   ]
  },
  {
   "cell_type": "code",
   "execution_count": null,
   "metadata": {},
   "outputs": [],
   "source": [
    "count = 1\n",
    "for ix in movie_duration:\n",
    "    \n",
    "    print count,\"--->\",ix,\"\\n\"\n",
    "    count = count+1"
   ]
  },
  {
   "cell_type": "code",
   "execution_count": null,
   "metadata": {},
   "outputs": [],
   "source": [
    "print new_duration[:10]\n",
    "print title[:10]\n",
    "print year[:10]\n",
    "print ratings[:10]\n",
    "print urls[:1]\n",
    "print actors[:10]\n",
    "print director[:10]"
   ]
  },
  {
   "cell_type": "code",
   "execution_count": null,
   "metadata": {},
   "outputs": [],
   "source": [
    "import pandas as pd"
   ]
  },
  {
   "cell_type": "code",
   "execution_count": null,
   "metadata": {},
   "outputs": [],
   "source": [
    "dataframe = {\n",
    "    'Title':title,\n",
    "    'Year' :year,\n",
    "    'Rating':ratings,\n",
    "    'Urls':urls,\n",
    "    'Actors':actors,\n",
    "    'Directors':director,\n",
    "    'Durations' :movie_duration\n",
    "}"
   ]
  },
  {
   "cell_type": "code",
   "execution_count": null,
   "metadata": {},
   "outputs": [],
   "source": [
    "output = pd.DataFrame(data=dataframe)\n",
    "print type(output)\n",
    "print output.shape"
   ]
  },
  {
   "cell_type": "code",
   "execution_count": null,
   "metadata": {},
   "outputs": [],
   "source": [
    "output.to_csv('out.csv', sep=',',index=False)"
   ]
  },
  {
   "cell_type": "code",
   "execution_count": null,
   "metadata": {},
   "outputs": [],
   "source": [
    "# error :: UnicodeEncodeError: 'ascii' codec can't encode character u'\\xa0' in position 20: ordinal not in range(128)"
   ]
  }
 ],
 "metadata": {
  "kernelspec": {
   "display_name": "Python 2",
   "language": "python",
   "name": "python2"
  },
  "language_info": {
   "codemirror_mode": {
    "name": "ipython",
    "version": 2
   },
   "file_extension": ".py",
   "mimetype": "text/x-python",
   "name": "python",
   "nbconvert_exporter": "python",
   "pygments_lexer": "ipython2",
   "version": "2.7.14"
  }
 },
 "nbformat": 4,
 "nbformat_minor": 2
}
